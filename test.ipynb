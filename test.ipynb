{
 "cells": [
  {
   "cell_type": "code",
   "execution_count": 2,
   "metadata": {},
   "outputs": [
    {
     "name": "stdout",
     "output_type": "stream",
     "text": [
      "ParseResult(scheme='', netloc='', path='/fibonacci/n=10', params='', query='', fragment='')\n"
     ]
    },
    {
     "data": {
      "text/plain": [
       "{'n': ['2']}"
      ]
     },
     "execution_count": 2,
     "metadata": {},
     "output_type": "execute_result"
    }
   ],
   "source": [
    "import urllib\n",
    "import urllib.parse\n",
    "\n",
    "\n",
    "url = '/fibonacci/n=10'\n",
    "a = urllib.parse.urlparse(url)\n",
    "print(a)\n",
    "qs = (b'n=2').decode('utf-8')\n",
    "qq = urllib.parse.parse_qs(qs)\n",
    "path = urllib.parse.urlparse(url).path\n",
    "qq"
   ]
  },
  {
   "cell_type": "code",
   "execution_count": 37,
   "metadata": {},
   "outputs": [
    {
     "data": {
      "text/plain": [
       "['fibonacci', 'k=10']"
      ]
     },
     "execution_count": 37,
     "metadata": {},
     "output_type": "execute_result"
    }
   ],
   "source": [
    "path.strip('/').split('/')"
   ]
  },
  {
   "cell_type": "code",
   "execution_count": 13,
   "metadata": {},
   "outputs": [
    {
     "name": "stdout",
     "output_type": "stream",
     "text": [
      "1\n"
     ]
    }
   ],
   "source": [
    "dict = {'func1': f_1, 'func2': f_2}\n",
    "func = dict['func2']\n",
    "\n",
    "def f_1(s=1):\n",
    "    print(s)\n",
    "\n",
    "def f_2(s=2):\n",
    "    print(s)\n",
    "\n",
    "def call_func(func):\n",
    "  func()\n",
    "\n",
    "call_func(dict['func1'])"
   ]
  },
  {
   "cell_type": "code",
   "execution_count": 23,
   "metadata": {},
   "outputs": [],
   "source": [
    "a = 'func1'\n",
    "if a not in dict:\n",
    "    print ('no')"
   ]
  },
  {
   "cell_type": "code",
   "execution_count": 25,
   "metadata": {},
   "outputs": [
    {
     "data": {
      "text/plain": [
       "{'n': ['10']}"
      ]
     },
     "execution_count": 25,
     "metadata": {},
     "output_type": "execute_result"
    }
   ],
   "source": [
    "qq"
   ]
  },
  {
   "cell_type": "code",
   "execution_count": 30,
   "metadata": {},
   "outputs": [
    {
     "data": {
      "text/plain": [
       "10"
      ]
     },
     "execution_count": 30,
     "metadata": {},
     "output_type": "execute_result"
    }
   ],
   "source": [
    "int(qq['n'][0])"
   ]
  },
  {
   "cell_type": "code",
   "execution_count": 31,
   "metadata": {},
   "outputs": [
    {
     "ename": "ValueError",
     "evalue": "invalid literal for int() with base 10: 'ss'",
     "output_type": "error",
     "traceback": [
      "\u001b[1;31m---------------------------------------------------------------------------\u001b[0m",
      "\u001b[1;31mValueError\u001b[0m                                Traceback (most recent call last)",
      "Cell \u001b[1;32mIn[31], line 1\u001b[0m\n\u001b[1;32m----> 1\u001b[0m \u001b[38;5;28;43mint\u001b[39;49m\u001b[43m(\u001b[49m\u001b[38;5;124;43m'\u001b[39;49m\u001b[38;5;124;43mss\u001b[39;49m\u001b[38;5;124;43m'\u001b[39;49m\u001b[43m)\u001b[49m\n",
      "\u001b[1;31mValueError\u001b[0m: invalid literal for int() with base 10: 'ss'"
     ]
    }
   ],
   "source": [
    "int('ss')"
   ]
  },
  {
   "cell_type": "code",
   "execution_count": null,
   "metadata": {},
   "outputs": [],
   "source": [
    "import requests\n",
    "\n",
    "    (\"json\", \"status_code\"),\n",
    "    [\n",
    "        (None, HTTPStatus.UNPROCESSABLE_ENTITY),\n",
    "        ([], HTTPStatus.BAD_REQUEST),\n",
    "        ([1, 2, 3], HTTPStatus.OK),\n",
    "        ([1, 2.0, 3.0], HTTPStatus.OK),\n",
    "        ([1.0, 2.0, 3.0], HTTPStatus.OK),\n",
    "    ],\n",
    ")\n",
    "def test_mean(json: dict[str, Any] | None, status_code: int):\n",
    "    response = requests.get(BASE_URL + \"/mean\", json=json)\n",
    "\n",
    "    assert response.status_code == status_code\n",
    "    if status_code == HTTPStatus.OK:\n",
    "        assert \"result\" in response.json()"
   ]
  },
  {
   "cell_type": "code",
   "execution_count": null,
   "metadata": {},
   "outputs": [],
   "source": [
    "try:\n",
    "            body = json.loads(message.get('body', b'').decode('utf-8'))\n",
    "        except json.JSONDecodeError:\n",
    "            await response_error(422, \"Invalid value for body, must be non-empty array of floats\", send)\n",
    "            return\n",
    "        if not isinstance(body, list):\n",
    "            await response_error(422, \"Invalid value for body, must be non-empty array of floats\", send)\n",
    "            return\n",
    "        if len(body) == 0:\n",
    "            await response_error(400, \"Invalid value for body, must be non-empty array of floats\", send)\n",
    "            return\n",
    "        try:\n",
    "            float_array = [float(i) for i in body]"
   ]
  },
  {
   "cell_type": "code",
   "execution_count": null,
   "metadata": {},
   "outputs": [],
   "source": [
    "import math\n",
    "\n",
    "a = [1.2, 3.5, 55.1]"
   ]
  }
 ],
 "metadata": {
  "kernelspec": {
   "display_name": "Python 3",
   "language": "python",
   "name": "python3"
  },
  "language_info": {
   "codemirror_mode": {
    "name": "ipython",
    "version": 3
   },
   "file_extension": ".py",
   "mimetype": "text/x-python",
   "name": "python",
   "nbconvert_exporter": "python",
   "pygments_lexer": "ipython3",
   "version": "3.11.9"
  }
 },
 "nbformat": 4,
 "nbformat_minor": 2
}
